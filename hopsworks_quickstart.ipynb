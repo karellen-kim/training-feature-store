{
  "nbformat": 4,
  "nbformat_minor": 0,
  "metadata": {
    "colab": {
      "provenance": [],
      "authorship_tag": "ABX9TyPAn0uX89bPHWEZcQHpasLs",
      "include_colab_link": true
    },
    "kernelspec": {
      "name": "python3",
      "display_name": "Python 3"
    },
    "language_info": {
      "name": "python"
    }
  },
  "cells": [
    {
      "cell_type": "markdown",
      "metadata": {
        "id": "view-in-github",
        "colab_type": "text"
      },
      "source": [
        "<a href=\"https://colab.research.google.com/github/karellen-kim/training-feature-store/blob/main/hopsworks_quickstart.ipynb\" target=\"_parent\"><img src=\"https://colab.research.google.com/assets/colab-badge.svg\" alt=\"Open In Colab\"/></a>"
      ]
    },
    {
      "cell_type": "code",
      "execution_count": null,
      "metadata": {
        "id": "7k8B92fT65-T"
      },
      "outputs": [],
      "source": [
        "!pip install -U hopsworks --quiet"
      ]
    },
    {
      "cell_type": "code",
      "source": [
        "import hopsworks\n",
        "\n",
        "project = hopsworks.login()\n",
        "\n",
        "fs = project.get_feature_store()"
      ],
      "metadata": {
        "colab": {
          "base_uri": "https://localhost:8080/"
        },
        "id": "zPBrLt4x7Gop",
        "outputId": "ea47c5be-4eb1-41a1-99b7-7f533120901c"
      },
      "execution_count": 2,
      "outputs": [
        {
          "output_type": "stream",
          "name": "stdout",
          "text": [
            "Copy your Api Key (first register/login): https://c.app.hopsworks.ai/account/api/generated\n",
            "\n",
            "Paste it here: ··········\n",
            "Connected. Call `.close()` to terminate connection gracefully.\n",
            "\n",
            "Logged in to project, explore it here https://c.app.hopsworks.ai:443/p/500884\n",
            "Connected. Call `.close()` to terminate connection gracefully.\n"
          ]
        }
      ]
    },
    {
      "cell_type": "code",
      "source": [
        "trans_fg = fs.get_or_create_feature_group(\n",
        "    name=\"\",\n",
        "    version=1,\n",
        "    description=\"Transaction data\",\n",
        "    primary_key=[\"cc_num\"],\n",
        "    event_time=\"datetime\",\n",
        "    online_enabled=True,\n",
        ")"
      ],
      "metadata": {
        "id": "7ocpPmfy8lFQ"
      },
      "execution_count": null,
      "outputs": []
    }
  ]
}